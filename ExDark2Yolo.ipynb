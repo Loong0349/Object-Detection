{
  "nbformat": 4,
  "nbformat_minor": 0,
  "metadata": {
    "colab": {
      "provenance": []
    },
    "kernelspec": {
      "name": "python3",
      "display_name": "Python 3"
    },
    "language_info": {
      "name": "python"
    }
  },
  "cells": [
    {
      "cell_type": "code",
      "execution_count": null,
      "metadata": {
        "colab": {
          "base_uri": "https://localhost:8080/"
        },
        "id": "AnNqMCPojUQK",
        "outputId": "edcf92ba-fece-4d91-eec5-01623b94a248"
      },
      "outputs": [
        {
          "output_type": "stream",
          "name": "stdout",
          "text": [
            "Cloning into 'ExDark2Yolo'...\n",
            "remote: Enumerating objects: 44, done.\u001b[K\n",
            "remote: Counting objects: 100% (44/44), done.\u001b[K\n",
            "remote: Compressing objects: 100% (32/32), done.\u001b[K\n",
            "remote: Total 44 (delta 17), reused 33 (delta 11), pack-reused 0\u001b[K\n",
            "Unpacking objects: 100% (44/44), 8.60 KiB | 677.00 KiB/s, done.\n"
          ]
        }
      ],
      "source": [
        "!git clone https://github.com/aweihao/ExDark2Yolo.git"
      ]
    },
    {
      "cell_type": "code",
      "source": [
        "%cd ExDark2Yolo"
      ],
      "metadata": {
        "colab": {
          "base_uri": "https://localhost:8080/"
        },
        "id": "0jx0Zci0oorm",
        "outputId": "6d3a49ce-f874-4344-e847-b4d5a617a4d1"
      },
      "execution_count": null,
      "outputs": [
        {
          "output_type": "stream",
          "name": "stdout",
          "text": [
            "/content/ExDark2Yolo\n"
          ]
        }
      ]
    },
    {
      "cell_type": "code",
      "source": [
        "!python exDark2Yolo.py --annotations-dir ../anno \\\n",
        "                      --images-dir ../images \\\n",
        "                      --ratio 8:1:1 \\\n",
        "                      --version 5 \\\n",
        "                      --output-dir output"
      ],
      "metadata": {
        "colab": {
          "base_uri": "https://localhost:8080/"
        },
        "id": "X3BlxM2ao05r",
        "outputId": "489002a7-e446-4dd2-8dca-295d298ecfa9"
      },
      "execution_count": null,
      "outputs": [
        {
          "output_type": "stream",
          "name": "stdout",
          "text": [
            "Processing Bicycle...\n",
            "Processing Boat...\n",
            "Processing Bottle...\n",
            "Processing Bus...\n",
            "Processing Car...\n",
            "Processing Cat...\n",
            "Processing Chair...\n",
            "Processing Cup...\n",
            "Processing Dog...\n",
            "Processing Motorbike...\n",
            "Processing People...\n",
            "Processing Table...\n"
          ]
        }
      ]
    },
    {
      "cell_type": "code",
      "source": [
        "!zip -r /content/ExDark2Yolo/output.zip /content/ExDark2Yolo/output"
      ],
      "metadata": {
        "colab": {
          "base_uri": "https://localhost:8080/"
        },
        "id": "W-o8e7Zyt1Sw",
        "outputId": "b0c036e5-01ab-4d9b-d11c-d00b7e987e9f"
      },
      "execution_count": null,
      "outputs": [
        {
          "output_type": "stream",
          "name": "stdout",
          "text": [
            "  adding: content/ExDark2Yolo/output/ (stored 0%)\n",
            "  adding: content/ExDark2Yolo/output/images/ (stored 0%)\n",
            "  adding: content/ExDark2Yolo/output/images/test/ (stored 0%)\n",
            "  adding: content/ExDark2Yolo/output/images/val/ (stored 0%)\n",
            "  adding: content/ExDark2Yolo/output/images/val/2015_00005.jpg (deflated 0%)\n",
            "  adding: content/ExDark2Yolo/output/images/train/ (stored 0%)\n",
            "  adding: content/ExDark2Yolo/output/images/train/2015_00004.jpg (deflated 1%)\n",
            "  adding: content/ExDark2Yolo/output/images/train/2015_00007.jpg (deflated 1%)\n",
            "  adding: content/ExDark2Yolo/output/images/train/2015_00006.jpg (deflated 0%)\n",
            "  adding: content/ExDark2Yolo/output/images/train/2015_00008.jpg (deflated 0%)\n",
            "  adding: content/ExDark2Yolo/output/images/train/2015_00001.png (deflated 0%)\n",
            "  adding: content/ExDark2Yolo/output/images/train/2015_00002.png (deflated 0%)\n",
            "  adding: content/ExDark2Yolo/output/images/train/2015_00003.png (deflated 0%)\n",
            "  adding: content/ExDark2Yolo/output/labels/ (stored 0%)\n",
            "  adding: content/ExDark2Yolo/output/labels/test/ (stored 0%)\n",
            "  adding: content/ExDark2Yolo/output/labels/val/ (stored 0%)\n",
            "  adding: content/ExDark2Yolo/output/labels/val/2015_00005.txt (deflated 16%)\n",
            "  adding: content/ExDark2Yolo/output/labels/train/ (stored 0%)\n",
            "  adding: content/ExDark2Yolo/output/labels/train/2015_00008.txt (deflated 30%)\n",
            "  adding: content/ExDark2Yolo/output/labels/train/2015_00003.txt (deflated 44%)\n",
            "  adding: content/ExDark2Yolo/output/labels/train/2015_00002.txt (deflated 53%)\n",
            "  adding: content/ExDark2Yolo/output/labels/train/2015_00007.txt (deflated 16%)\n",
            "  adding: content/ExDark2Yolo/output/labels/train/2015_00001.txt (deflated 26%)\n",
            "  adding: content/ExDark2Yolo/output/labels/train/2015_00004.txt (deflated 28%)\n",
            "  adding: content/ExDark2Yolo/output/labels/train/2015_00006.txt (deflated 46%)\n"
          ]
        }
      ]
    },
    {
      "cell_type": "code",
      "source": [
        "from google.colab import files\n",
        "files.download('/content/ExDark2Yolo/output.zip')"
      ],
      "metadata": {
        "colab": {
          "base_uri": "https://localhost:8080/"
        },
        "id": "xdde6jEfuJUk",
        "outputId": "23b95059-456e-45aa-d712-ec6591f1f8d1"
      },
      "execution_count": null,
      "outputs": [
        {
          "output_type": "display_data",
          "data": {
            "text/plain": [
              "<IPython.core.display.Javascript object>"
            ],
            "application/javascript": [
              "\n",
              "    async function download(id, filename, size) {\n",
              "      if (!google.colab.kernel.accessAllowed) {\n",
              "        return;\n",
              "      }\n",
              "      const div = document.createElement('div');\n",
              "      const label = document.createElement('label');\n",
              "      label.textContent = `Downloading \"${filename}\": `;\n",
              "      div.appendChild(label);\n",
              "      const progress = document.createElement('progress');\n",
              "      progress.max = size;\n",
              "      div.appendChild(progress);\n",
              "      document.body.appendChild(div);\n",
              "\n",
              "      const buffers = [];\n",
              "      let downloaded = 0;\n",
              "\n",
              "      const channel = await google.colab.kernel.comms.open(id);\n",
              "      // Send a message to notify the kernel that we're ready.\n",
              "      channel.send({})\n",
              "\n",
              "      for await (const message of channel.messages) {\n",
              "        // Send a message to notify the kernel that we're ready.\n",
              "        channel.send({})\n",
              "        if (message.buffers) {\n",
              "          for (const buffer of message.buffers) {\n",
              "            buffers.push(buffer);\n",
              "            downloaded += buffer.byteLength;\n",
              "            progress.value = downloaded;\n",
              "          }\n",
              "        }\n",
              "      }\n",
              "      const blob = new Blob(buffers, {type: 'application/binary'});\n",
              "      const a = document.createElement('a');\n",
              "      a.href = window.URL.createObjectURL(blob);\n",
              "      a.download = filename;\n",
              "      div.appendChild(a);\n",
              "      a.click();\n",
              "      div.remove();\n",
              "    }\n",
              "  "
            ]
          },
          "metadata": {}
        },
        {
          "output_type": "display_data",
          "data": {
            "text/plain": [
              "<IPython.core.display.Javascript object>"
            ],
            "application/javascript": [
              "download(\"download_40889e42-9abe-4d95-a221-44932e793601\", \"output.zip\", 1360428)"
            ]
          },
          "metadata": {}
        }
      ]
    }
  ]
}