{
  "nbformat": 4,
  "nbformat_minor": 0,
  "metadata": {
    "colab": {
      "provenance": []
    },
    "kernelspec": {
      "name": "python3",
      "display_name": "Python 3"
    },
    "language_info": {
      "name": "python"
    },
    "gpuClass": "standard"
  },
  "cells": [
    {
      "cell_type": "code",
      "source": [
        "!sudo apt-get update -y"
      ],
      "metadata": {
        "colab": {
          "base_uri": "https://localhost:8080/"
        },
        "id": "2T7Ak7RHfq8Z",
        "outputId": "cc96b62f-7b18-44d6-c7d9-40cea26e5b15"
      },
      "execution_count": null,
      "outputs": [
        {
          "output_type": "stream",
          "name": "stdout",
          "text": [
            "Get:1 https://cloud.r-project.org/bin/linux/ubuntu focal-cran40/ InRelease [3,622 B]\n",
            "Hit:2 https://developer.download.nvidia.com/compute/cuda/repos/ubuntu2004/x86_64  InRelease\n",
            "Get:3 http://security.ubuntu.com/ubuntu focal-security InRelease [114 kB]\n",
            "Hit:4 http://archive.ubuntu.com/ubuntu focal InRelease\n",
            "Get:5 http://ppa.launchpad.net/c2d4u.team/c2d4u4.0+/ubuntu focal InRelease [18.1 kB]\n",
            "Get:6 http://archive.ubuntu.com/ubuntu focal-updates InRelease [114 kB]\n",
            "Hit:7 http://ppa.launchpad.net/cran/libgit2/ubuntu focal InRelease\n",
            "Get:8 http://security.ubuntu.com/ubuntu focal-security/main amd64 Packages [2,726 kB]\n",
            "Hit:9 http://ppa.launchpad.net/deadsnakes/ppa/ubuntu focal InRelease\n",
            "Get:10 http://archive.ubuntu.com/ubuntu focal-backports InRelease [108 kB]\n",
            "Get:11 http://security.ubuntu.com/ubuntu focal-security/universe amd64 Packages [1,052 kB]\n",
            "Hit:12 http://ppa.launchpad.net/graphics-drivers/ppa/ubuntu focal InRelease\n",
            "Get:13 http://archive.ubuntu.com/ubuntu focal-updates/universe amd64 Packages [1,346 kB]\n",
            "Hit:14 http://ppa.launchpad.net/ubuntugis/ppa/ubuntu focal InRelease\n",
            "Get:15 http://ppa.launchpad.net/c2d4u.team/c2d4u4.0+/ubuntu focal/main Sources [2,581 kB]\n",
            "Get:16 http://archive.ubuntu.com/ubuntu focal-updates/main amd64 Packages [3,204 kB]\n",
            "Get:17 http://archive.ubuntu.com/ubuntu focal-updates/restricted amd64 Packages [2,412 kB]\n",
            "Get:18 http://ppa.launchpad.net/c2d4u.team/c2d4u4.0+/ubuntu focal/main amd64 Packages [1,218 kB]\n",
            "Fetched 14.9 MB in 4s (3,755 kB/s)\n",
            "Reading package lists... Done\n"
          ]
        }
      ]
    },
    {
      "cell_type": "code",
      "source": [
        "#installing python 3.5\n",
        "!sudo apt-get install python3.5"
      ],
      "metadata": {
        "colab": {
          "base_uri": "https://localhost:8080/"
        },
        "id": "yiTMSg8yfwK4",
        "outputId": "004100b9-f050-48b3-b535-2d5e773ea64f"
      },
      "execution_count": null,
      "outputs": [
        {
          "output_type": "stream",
          "name": "stdout",
          "text": [
            "Reading package lists... Done\n",
            "Building dependency tree       \n",
            "Reading state information... Done\n",
            "The following additional packages will be installed:\n",
            "  libpython3.5-minimal libpython3.5-stdlib python3.5-minimal\n",
            "Suggested packages:\n",
            "  python3.5-venv binfmt-support\n",
            "The following NEW packages will be installed:\n",
            "  libpython3.5-minimal libpython3.5-stdlib python3.5 python3.5-minimal\n",
            "0 upgraded, 4 newly installed, 0 to remove and 34 not upgraded.\n",
            "Need to get 4,127 kB of archives.\n",
            "After this operation, 22.9 MB of additional disk space will be used.\n",
            "Get:1 http://ppa.launchpad.net/deadsnakes/ppa/ubuntu focal/main amd64 libpython3.5-minimal amd64 3.5.10-1+focal3 [542 kB]\n",
            "Get:2 http://ppa.launchpad.net/deadsnakes/ppa/ubuntu focal/main amd64 python3.5-minimal amd64 3.5.10-1+focal3 [1,258 kB]\n",
            "Get:3 http://ppa.launchpad.net/deadsnakes/ppa/ubuntu focal/main amd64 libpython3.5-stdlib amd64 3.5.10-1+focal3 [2,114 kB]\n",
            "Get:4 http://ppa.launchpad.net/deadsnakes/ppa/ubuntu focal/main amd64 python3.5 amd64 3.5.10-1+focal3 [213 kB]\n",
            "Fetched 4,127 kB in 5s (784 kB/s)\n",
            "debconf: unable to initialize frontend: Dialog\n",
            "debconf: (No usable dialog-like program is installed, so the dialog based frontend cannot be used. at /usr/share/perl5/Debconf/FrontEnd/Dialog.pm line 76, <> line 4.)\n",
            "debconf: falling back to frontend: Readline\n",
            "debconf: unable to initialize frontend: Readline\n",
            "debconf: (This frontend requires a controlling tty.)\n",
            "debconf: falling back to frontend: Teletype\n",
            "dpkg-preconfigure: unable to re-open stdin: \n",
            "Selecting previously unselected package libpython3.5-minimal:amd64.\n",
            "(Reading database ... 122545 files and directories currently installed.)\n",
            "Preparing to unpack .../libpython3.5-minimal_3.5.10-1+focal3_amd64.deb ...\n",
            "Unpacking libpython3.5-minimal:amd64 (3.5.10-1+focal3) ...\n",
            "Selecting previously unselected package python3.5-minimal.\n",
            "Preparing to unpack .../python3.5-minimal_3.5.10-1+focal3_amd64.deb ...\n",
            "Unpacking python3.5-minimal (3.5.10-1+focal3) ...\n",
            "Selecting previously unselected package libpython3.5-stdlib:amd64.\n",
            "Preparing to unpack .../libpython3.5-stdlib_3.5.10-1+focal3_amd64.deb ...\n",
            "Unpacking libpython3.5-stdlib:amd64 (3.5.10-1+focal3) ...\n",
            "Selecting previously unselected package python3.5.\n",
            "Preparing to unpack .../python3.5_3.5.10-1+focal3_amd64.deb ...\n",
            "Unpacking python3.5 (3.5.10-1+focal3) ...\n",
            "Setting up libpython3.5-minimal:amd64 (3.5.10-1+focal3) ...\n",
            "Setting up libpython3.5-stdlib:amd64 (3.5.10-1+focal3) ...\n",
            "Setting up python3.5-minimal (3.5.10-1+focal3) ...\n",
            "Setting up python3.5 (3.5.10-1+focal3) ...\n",
            "Processing triggers for mime-support (3.64ubuntu1) ...\n",
            "Processing triggers for man-db (2.9.1-1) ...\n"
          ]
        }
      ]
    },
    {
      "cell_type": "code",
      "source": [
        "!sudo update-alternatives --install /usr/bin/python3 python3 /usr/bin/python3.5 1"
      ],
      "metadata": {
        "id": "59DY-VzGf7pY"
      },
      "execution_count": null,
      "outputs": []
    },
    {
      "cell_type": "code",
      "source": [
        "#switching to python 3.5\n",
        "!sudo update-alternatives --config python3"
      ],
      "metadata": {
        "colab": {
          "base_uri": "https://localhost:8080/"
        },
        "id": "NONwQ428gRV4",
        "outputId": "58678ff9-accd-4952-cf87-63f0d3473722"
      },
      "execution_count": null,
      "outputs": [
        {
          "output_type": "stream",
          "name": "stdout",
          "text": [
            "There are 3 choices for the alternative python3 (providing /usr/bin/python3).\n",
            "\n",
            "  Selection    Path                 Priority   Status\n",
            "------------------------------------------------------------\n",
            "* 0            /usr/bin/python3.10   2         auto mode\n",
            "  1            /usr/bin/python3.10   2         manual mode\n",
            "  2            /usr/bin/python3.5    1         manual mode\n",
            "  3            /usr/bin/python3.8    1         manual mode\n",
            "\n",
            "Press <enter> to keep the current choice[*], or type selection number: 2\n",
            "update-alternatives: using /usr/bin/python3.5 to provide /usr/bin/python3 (python3) in manual mode\n"
          ]
        }
      ]
    },
    {
      "cell_type": "code",
      "source": [
        "!python --version"
      ],
      "metadata": {
        "id": "uI4_QVuPgZpu",
        "colab": {
          "base_uri": "https://localhost:8080/"
        },
        "outputId": "09a94261-bab9-4cb4-f6b1-98375559fd39"
      },
      "execution_count": null,
      "outputs": [
        {
          "output_type": "stream",
          "name": "stdout",
          "text": [
            "Python 3.5.10\n"
          ]
        }
      ]
    },
    {
      "cell_type": "code",
      "source": [
        "#installing pip for python 3.5\n",
        "!sudo apt install python3-pip"
      ],
      "metadata": {
        "colab": {
          "base_uri": "https://localhost:8080/"
        },
        "id": "56UXnBOZgZvo",
        "outputId": "a630d934-2023-467e-cbb6-2e37273e1b13"
      },
      "execution_count": null,
      "outputs": [
        {
          "output_type": "stream",
          "name": "stdout",
          "text": [
            "Reading package lists... Done\n",
            "Building dependency tree       \n",
            "Reading state information... Done\n",
            "The following additional packages will be installed:\n",
            "  python-pip-whl python3-setuptools python3-wheel\n",
            "Suggested packages:\n",
            "  python-setuptools-doc\n",
            "The following NEW packages will be installed:\n",
            "  python-pip-whl python3-pip python3-setuptools python3-wheel\n",
            "0 upgraded, 4 newly installed, 0 to remove and 34 not upgraded.\n",
            "Need to get 2,389 kB of archives.\n",
            "After this operation, 4,933 kB of additional disk space will be used.\n",
            "Get:1 http://archive.ubuntu.com/ubuntu focal-updates/universe amd64 python-pip-whl all 20.0.2-5ubuntu1.8 [1,805 kB]\n",
            "Get:2 http://archive.ubuntu.com/ubuntu focal-updates/main amd64 python3-setuptools all 45.2.0-1ubuntu0.1 [330 kB]\n",
            "Get:3 http://archive.ubuntu.com/ubuntu focal-updates/universe amd64 python3-wheel all 0.34.2-1ubuntu0.1 [23.9 kB]\n",
            "Get:4 http://archive.ubuntu.com/ubuntu focal-updates/universe amd64 python3-pip all 20.0.2-5ubuntu1.8 [231 kB]\n",
            "Fetched 2,389 kB in 2s (1,491 kB/s)\n",
            "debconf: unable to initialize frontend: Dialog\n",
            "debconf: (No usable dialog-like program is installed, so the dialog based frontend cannot be used. at /usr/share/perl5/Debconf/FrontEnd/Dialog.pm line 76, <> line 4.)\n",
            "debconf: falling back to frontend: Readline\n",
            "debconf: unable to initialize frontend: Readline\n",
            "debconf: (This frontend requires a controlling tty.)\n",
            "debconf: falling back to frontend: Teletype\n",
            "dpkg-preconfigure: unable to re-open stdin: \n",
            "Selecting previously unselected package python-pip-whl.\n",
            "(Reading database ... 123381 files and directories currently installed.)\n",
            "Preparing to unpack .../python-pip-whl_20.0.2-5ubuntu1.8_all.deb ...\n",
            "Unpacking python-pip-whl (20.0.2-5ubuntu1.8) ...\n",
            "Selecting previously unselected package python3-setuptools.\n",
            "Preparing to unpack .../python3-setuptools_45.2.0-1ubuntu0.1_all.deb ...\n",
            "Unpacking python3-setuptools (45.2.0-1ubuntu0.1) ...\n",
            "Selecting previously unselected package python3-wheel.\n",
            "Preparing to unpack .../python3-wheel_0.34.2-1ubuntu0.1_all.deb ...\n",
            "Unpacking python3-wheel (0.34.2-1ubuntu0.1) ...\n",
            "Selecting previously unselected package python3-pip.\n",
            "Preparing to unpack .../python3-pip_20.0.2-5ubuntu1.8_all.deb ...\n",
            "Unpacking python3-pip (20.0.2-5ubuntu1.8) ...\n",
            "Setting up python3-setuptools (45.2.0-1ubuntu0.1) ...\n",
            "Setting up python3-wheel (0.34.2-1ubuntu0.1) ...\n",
            "Setting up python-pip-whl (20.0.2-5ubuntu1.8) ...\n",
            "Setting up python3-pip (20.0.2-5ubuntu1.8) ...\n",
            "Processing triggers for man-db (2.9.1-1) ...\n"
          ]
        }
      ]
    },
    {
      "cell_type": "code",
      "source": [
        "!pip list -v"
      ],
      "metadata": {
        "colab": {
          "base_uri": "https://localhost:8080/"
        },
        "id": "veUb5yEJjyKp",
        "outputId": "77e00d65-abaa-4a63-8731-607e71303d8d"
      },
      "execution_count": null,
      "outputs": [
        {
          "output_type": "stream",
          "name": "stdout",
          "text": [
            "Package             Version              Location                       Installer\n",
            "------------------- -------------------- ------------------------------ ---------\n",
            "dbus-python         1.2.16               /usr/lib/python3/dist-packages          \n",
            "pip                 20.0.2               /usr/lib/python3/dist-packages          \n",
            "PyGObject           3.36.0               /usr/lib/python3/dist-packages          \n",
            "python-apt          2.0.1+ubuntu0.20.4.1 /usr/lib/python3/dist-packages          \n",
            "requests-unixsocket 0.2.0                /usr/lib/python3/dist-packages          \n",
            "setuptools          45.2.0               /usr/lib/python3/dist-packages          \n",
            "wheel               0.34.2               /usr/lib/python3/dist-packages          \n"
          ]
        }
      ]
    },
    {
      "cell_type": "code",
      "source": [
        "#upgrading pip and setup tools\n",
        "!pip install --upgrade pip setuptools"
      ],
      "metadata": {
        "colab": {
          "base_uri": "https://localhost:8080/"
        },
        "id": "tJUG_0kgo0XJ",
        "outputId": "76fe1d49-362c-4289-ed01-b25311487d88"
      },
      "execution_count": null,
      "outputs": [
        {
          "output_type": "stream",
          "name": "stdout",
          "text": [
            "Looking in indexes: https://pypi.org/simple, https://us-python.pkg.dev/colab-wheels/public/simple/\n",
            "Collecting pip\n",
            "  Downloading pip-20.3.4-py2.py3-none-any.whl (1.5 MB)\n",
            "\u001b[K     |████████████████████████████████| 1.5 MB 6.1 MB/s \n",
            "\u001b[?25hCollecting setuptools\n",
            "  Downloading setuptools-50.3.2-py3-none-any.whl (785 kB)\n",
            "\u001b[K     |████████████████████████████████| 785 kB 47.8 MB/s \n",
            "\u001b[?25hInstalling collected packages: pip, setuptools\n",
            "  Attempting uninstall: pip\n",
            "    Found existing installation: pip 20.0.2\n",
            "    Not uninstalling pip at /usr/lib/python3/dist-packages, outside environment /usr\n",
            "    Can't uninstall 'pip'. No files were found to uninstall.\n",
            "  Attempting uninstall: setuptools\n",
            "    Found existing installation: setuptools 45.2.0\n",
            "    Not uninstalling setuptools at /usr/lib/python3/dist-packages, outside environment /usr\n",
            "    Can't uninstall 'setuptools'. No files were found to uninstall.\n",
            "Successfully installed pip-20.3.4 setuptools-50.3.2\n"
          ]
        }
      ]
    },
    {
      "cell_type": "code",
      "source": [
        "#installing requirements\n",
        "!pip install tqdm grpcio==1.9.1 tensorflow==1.6.0 imageio keras==2.2.0 numpy opencv-python"
      ],
      "metadata": {
        "colab": {
          "base_uri": "https://localhost:8080/",
          "height": 1000
        },
        "id": "9PH4XPo0sdj9",
        "outputId": "7e071536-0798-44e5-82bd-c827e203cae8"
      },
      "execution_count": null,
      "outputs": [
        {
          "output_type": "stream",
          "name": "stdout",
          "text": [
            "Looking in indexes: https://pypi.org/simple, https://us-python.pkg.dev/colab-wheels/public/simple/\n",
            "Collecting tqdm\n",
            "  Downloading tqdm-4.64.1-py2.py3-none-any.whl (78 kB)\n",
            "\u001b[K     |████████████████████████████████| 78 kB 3.6 MB/s \n",
            "\u001b[?25hCollecting grpcio==1.9.1\n",
            "  Downloading grpcio-1.9.1-cp35-cp35m-manylinux1_x86_64.whl (6.3 MB)\n",
            "\u001b[K     |████████████████████████████████| 6.3 MB 39.6 MB/s \n",
            "\u001b[?25hCollecting tensorflow==1.6.0\n",
            "  Downloading tensorflow-1.6.0-cp35-cp35m-manylinux1_x86_64.whl (45.8 MB)\n",
            "\u001b[K     |████████████████████████████████| 45.8 MB 11 kB/s \n",
            "\u001b[?25hCollecting imageio\n",
            "  Downloading imageio-2.15.0-py3-none-any.whl (3.3 MB)\n",
            "\u001b[K     |████████████████████████████████| 3.3 MB 45.5 MB/s \n",
            "\u001b[?25hCollecting keras==2.2.0\n",
            "  Downloading Keras-2.2.0-py2.py3-none-any.whl (300 kB)\n",
            "\u001b[K     |████████████████████████████████| 300 kB 47.6 MB/s \n",
            "\u001b[?25hCollecting numpy\n",
            "  Downloading numpy-1.18.5-cp35-cp35m-manylinux1_x86_64.whl (19.9 MB)\n",
            "\u001b[K     |████████████████████████████████| 19.9 MB 1.3 MB/s \n",
            "\u001b[?25hCollecting opencv-python\n",
            "  Downloading opencv_python-4.4.0.42-cp35-cp35m-manylinux2014_x86_64.whl (49.4 MB)\n",
            "\u001b[K     |████████████████████████████████| 49.4 MB 92 kB/s \n",
            "\u001b[?25hCollecting protobuf>=3.5.0.post1\n",
            "  Downloading protobuf-3.19.6-py2.py3-none-any.whl (162 kB)\n",
            "\u001b[K     |████████████████████████████████| 162 kB 52.7 MB/s \n",
            "\u001b[?25hCollecting six>=1.5.2\n",
            "  Downloading six-1.16.0-py2.py3-none-any.whl (11 kB)\n",
            "Collecting scipy>=0.14\n",
            "  Downloading scipy-1.4.1-cp35-cp35m-manylinux1_x86_64.whl (26.0 MB)\n",
            "\u001b[K     |████████████████████████████████| 26.0 MB 1.4 MB/s \n",
            "\u001b[?25hCollecting pyyaml\n",
            "  Downloading PyYAML-5.3.1.tar.gz (269 kB)\n",
            "\u001b[K     |████████████████████████████████| 269 kB 44.2 MB/s \n",
            "\u001b[?25hCollecting keras-applications==1.0.2\n",
            "  Downloading Keras_Applications-1.0.2-py2.py3-none-any.whl (43 kB)\n",
            "\u001b[K     |████████████████████████████████| 43 kB 1.7 MB/s \n",
            "\u001b[?25hCollecting keras-preprocessing==1.0.1\n",
            "  Downloading Keras_Preprocessing-1.0.1-py2.py3-none-any.whl (26 kB)\n",
            "Collecting h5py\n",
            "  Downloading h5py-2.10.0-cp35-cp35m-manylinux1_x86_64.whl (2.8 MB)\n",
            "\u001b[K     |████████████████████████████████| 2.8 MB 32.5 MB/s \n",
            "\u001b[?25hCollecting absl-py>=0.1.6\n",
            "  Downloading absl_py-0.15.0-py3-none-any.whl (132 kB)\n",
            "\u001b[K     |████████████████████████████████| 132 kB 36.6 MB/s \n",
            "\u001b[?25hCollecting termcolor>=1.1.0\n",
            "  Downloading termcolor-1.1.0.tar.gz (3.9 kB)\n",
            "Collecting tensorboard<1.7.0,>=1.6.0\n",
            "  Downloading tensorboard-1.6.0-py3-none-any.whl (3.0 MB)\n",
            "\u001b[K     |████████████████████████████████| 3.0 MB 41.9 MB/s \n",
            "\u001b[?25hCollecting gast>=0.2.0\n",
            "  Downloading gast-0.5.4-py3-none-any.whl (19 kB)\n",
            "Requirement already satisfied: wheel>=0.26 in /usr/lib/python3/dist-packages (from tensorflow==1.6.0) (0.34.2)\n",
            "Collecting astor>=0.6.0\n",
            "  Downloading astor-0.8.1-py2.py3-none-any.whl (27 kB)\n",
            "Collecting bleach==1.5.0\n",
            "  Downloading bleach-1.5.0-py2.py3-none-any.whl (17 kB)\n",
            "Collecting html5lib==0.9999999\n",
            "  Downloading html5lib-0.9999999.tar.gz (889 kB)\n",
            "\u001b[K     |████████████████████████████████| 889 kB 37.3 MB/s \n",
            "\u001b[?25hCollecting werkzeug>=0.11.10\n",
            "  Downloading Werkzeug-1.0.1-py2.py3-none-any.whl (298 kB)\n",
            "\u001b[K     |████████████████████████████████| 298 kB 37.5 MB/s \n",
            "\u001b[?25hCollecting markdown>=2.6.8\n",
            "  Downloading Markdown-3.2.2-py3-none-any.whl (88 kB)\n",
            "\u001b[K     |████████████████████████████████| 88 kB 6.3 MB/s \n",
            "\u001b[?25hCollecting importlib-metadata\n",
            "  Downloading importlib_metadata-2.1.3-py2.py3-none-any.whl (10 kB)\n",
            "Collecting imageio\n",
            "  Downloading imageio-2.14.1-py3-none-any.whl (3.3 MB)\n",
            "\u001b[K     |████████████████████████████████| 3.3 MB 60.5 MB/s \n",
            "\u001b[?25h  Downloading imageio-2.14.0-py3-none-any.whl (3.3 MB)\n",
            "\u001b[K     |████████████████████████████████| 3.3 MB 51.9 MB/s \n",
            "\u001b[?25h  Downloading imageio-2.13.5-py3-none-any.whl (3.3 MB)\n",
            "\u001b[K     |████████████████████████████████| 3.3 MB 45.6 MB/s \n",
            "\u001b[?25h  Downloading imageio-2.13.4-py3-none-any.whl (3.3 MB)\n",
            "\u001b[K     |████████████████████████████████| 3.3 MB 40.2 MB/s \n",
            "\u001b[?25h  Downloading imageio-2.13.3-py3-none-any.whl (3.3 MB)\n",
            "\u001b[K     |████████████████████████████████| 3.3 MB 41.4 MB/s \n",
            "\u001b[?25h  Downloading imageio-2.13.2-py3-none-any.whl (3.3 MB)\n",
            "\u001b[K     |████████████████████████████████| 3.3 MB 50.9 MB/s \n",
            "\u001b[?25h  Downloading imageio-2.13.1-py3-none-any.whl (3.3 MB)\n",
            "\u001b[K     |████████████████████████████████| 3.3 MB 47.2 MB/s \n",
            "\u001b[?25h  Downloading imageio-2.13.0-py3-none-any.whl (3.3 MB)\n",
            "\u001b[K     |████████████████████████████████| 3.3 MB 36.2 MB/s \n",
            "\u001b[?25h  Downloading imageio-2.12.0-py3-none-any.whl (3.3 MB)\n",
            "\u001b[K     |████████████████████████████████| 3.3 MB 44.5 MB/s \n",
            "\u001b[?25h  Downloading imageio-2.11.1-py3-none-any.whl (3.3 MB)\n",
            "\u001b[K     |████████████████████████████████| 3.3 MB 38.4 MB/s \n",
            "\u001b[?25h  Downloading imageio-2.11.0-py3-none-any.whl (3.3 MB)\n",
            "\u001b[K     |████████████████████████████████| 3.3 MB 41.9 MB/s \n",
            "\u001b[?25h  Downloading imageio-2.10.5-py3-none-any.whl (3.3 MB)\n",
            "\u001b[K     |████████████████████████████████| 3.3 MB 33.1 MB/s \n",
            "\u001b[?25h  Downloading imageio-2.10.4-py3-none-any.whl (3.3 MB)\n",
            "\u001b[K     |████████████████████████████████| 3.3 MB 36.8 MB/s \n",
            "\u001b[?25h  Downloading imageio-2.10.3-py3-none-any.whl (3.3 MB)\n",
            "\u001b[K     |████████████████████████████████| 3.3 MB 46.0 MB/s \n",
            "\u001b[?25h  Downloading imageio-2.10.2-py3-none-any.whl (3.3 MB)\n",
            "\u001b[K     |████████████████████████████████| 3.3 MB 55.4 MB/s \n",
            "\u001b[?25h  Downloading imageio-2.10.1-py3-none-any.whl (3.3 MB)\n",
            "\u001b[K     |████████████████████████████████| 3.3 MB 47.9 MB/s \n",
            "\u001b[?25h  Downloading imageio-2.9.0-py3-none-any.whl (3.3 MB)\n",
            "\u001b[K     |████████████████████████████████| 3.3 MB 40.4 MB/s \n",
            "\u001b[?25hCollecting pillow\n",
            "  Downloading Pillow-7.2.0-cp35-cp35m-manylinux1_x86_64.whl (2.2 MB)\n",
            "\u001b[K     |████████████████████████████████| 2.2 MB 47.7 MB/s \n",
            "\u001b[?25hCollecting importlib-resources\n",
            "  Downloading importlib_resources-3.2.1-py2.py3-none-any.whl (26 kB)\n",
            "Collecting zipp>=0.5\n",
            "  Downloading zipp-1.2.0-py2.py3-none-any.whl (4.8 kB)\n",
            "Building wheels for collected packages: html5lib, pyyaml, termcolor\n",
            "  Building wheel for html5lib (setup.py) ... \u001b[?25l\u001b[?25hdone\n",
            "  Created wheel for html5lib: filename=html5lib-0.9999999-py3-none-any.whl size=107220 sha256=90cca1d6d6e170fcabe694557a0d234eb93172a7751f195d66f6b22a75151c2f\n",
            "  Stored in directory: /root/.cache/pip/wheels/5c/93/0e/45057f13b26ba880ba315b4b580d52ca76151fa88aa5db6db8\n",
            "  Building wheel for pyyaml (setup.py) ... \u001b[?25l\u001b[?25hdone\n",
            "  Created wheel for pyyaml: filename=PyYAML-5.3.1-cp35-cp35m-linux_x86_64.whl size=44619 sha256=5a7bff220f088499b0b920eb1b34648a21cc22a2e0b60d8cc139b244bc56468d\n",
            "  Stored in directory: /root/.cache/pip/wheels/57/d0/2c/e2003abb5bc1a94c2e8a6fe1c03b8055d074e34c13672e7eb7\n",
            "  Building wheel for termcolor (setup.py) ... \u001b[?25l\u001b[?25hdone\n",
            "  Created wheel for termcolor: filename=termcolor-1.1.0-py3-none-any.whl size=4830 sha256=73acd388ce1d36be0b6d01701f526022f5cff6c5c79fecdfb5247c4112bcba0f\n",
            "  Stored in directory: /root/.cache/pip/wheels/91/0e/11/1f1321dce76e9c542907008e4a94ff79f8bf525a3fa32b09f3\n",
            "Successfully built html5lib pyyaml termcolor\n",
            "Installing collected packages: zipp, six, numpy, importlib-metadata, html5lib, werkzeug, scipy, protobuf, markdown, h5py, bleach, termcolor, tensorboard, pyyaml, pillow, keras-preprocessing, keras-applications, importlib-resources, grpcio, gast, astor, absl-py, tqdm, tensorflow, opencv-python, keras, imageio\n",
            "Successfully installed absl-py-0.15.0 astor-0.8.1 bleach-1.5.0 gast-0.5.4 grpcio-1.9.1 h5py-2.10.0 html5lib-0.9999999 imageio-2.9.0 importlib-metadata-2.1.3 importlib-resources-3.2.1 keras-2.2.0 keras-applications-1.0.2 keras-preprocessing-1.0.1 markdown-3.2.2 numpy-1.18.5 opencv-python-4.4.0.42 pillow-7.2.0 protobuf-3.19.6 pyyaml-5.3.1 scipy-1.4.1 six-1.16.0 tensorboard-1.6.0 tensorflow-1.6.0 termcolor-1.1.0 tqdm-4.64.1 werkzeug-1.0.1 zipp-1.2.0\n"
          ]
        },
        {
          "output_type": "display_data",
          "data": {
            "application/vnd.colab-display-data+json": {
              "pip_warning": {
                "packages": [
                  "six"
                ]
              }
            }
          },
          "metadata": {}
        }
      ]
    },
    {
      "cell_type": "code",
      "execution_count": null,
      "metadata": {
        "colab": {
          "base_uri": "https://localhost:8080/"
        },
        "id": "_hJpplvqURad",
        "outputId": "94cfa087-322f-4e44-b8b0-e7ce554da404"
      },
      "outputs": [
        {
          "output_type": "stream",
          "name": "stdout",
          "text": [
            "Cloning into 'AGLLNet'...\n",
            "remote: Enumerating objects: 23, done.\u001b[K\n",
            "remote: Counting objects: 100% (23/23), done.\u001b[K\n",
            "remote: Compressing objects: 100% (19/19), done.\u001b[K\n",
            "remote: Total 23 (delta 6), reused 7 (delta 1), pack-reused 0\u001b[K\n",
            "Unpacking objects: 100% (23/23), 4.40 MiB | 5.03 MiB/s, done.\n"
          ]
        }
      ],
      "source": [
        "#cloning AGLLNet\n",
        "!git clone https://github.com/yu-li/AGLLNet.git"
      ]
    },
    {
      "cell_type": "code",
      "source": [
        "%cd AGLLNet"
      ],
      "metadata": {
        "colab": {
          "base_uri": "https://localhost:8080/"
        },
        "id": "tnUcnDJ5VN9y",
        "outputId": "9573004c-cfb3-4918-9c3b-3d878a7a9c72"
      },
      "execution_count": null,
      "outputs": [
        {
          "output_type": "stream",
          "name": "stdout",
          "text": [
            "/content/AGLLNet\n"
          ]
        }
      ]
    },
    {
      "cell_type": "code",
      "source": [
        "!unzip /content/AGLLNet/People.zip"
      ],
      "metadata": {
        "id": "TiWNkR5XSJh0"
      },
      "execution_count": null,
      "outputs": []
    },
    {
      "cell_type": "code",
      "source": [
        "!rm -r /content/AGLLNet/input"
      ],
      "metadata": {
        "id": "dJR_ME_jNWwh"
      },
      "execution_count": null,
      "outputs": []
    },
    {
      "cell_type": "code",
      "source": [
        "#performing image enhacement on the images\n",
        "!python run_agllnet.py"
      ],
      "metadata": {
        "colab": {
          "base_uri": "https://localhost:8080/"
        },
        "id": "sIYa8gYHs1ek",
        "outputId": "f293a5d3-78e2-4354-edcd-b2adced55f13"
      },
      "execution_count": null,
      "outputs": [
        {
          "output_type": "stream",
          "name": "stdout",
          "text": [
            "Using TensorFlow backend.\n",
            "/usr/local/lib/python3.5/dist-packages/tensorflow/python/framework/dtypes.py:517: FutureWarning: Passing (type, 1) or '1type' as a synonym of type is deprecated; in a future version of numpy, it will be understood as (type, (1,)) / '(1,)type'.\n",
            "  _np_qint8 = np.dtype([(\"qint8\", np.int8, 1)])\n",
            "/usr/local/lib/python3.5/dist-packages/tensorflow/python/framework/dtypes.py:518: FutureWarning: Passing (type, 1) or '1type' as a synonym of type is deprecated; in a future version of numpy, it will be understood as (type, (1,)) / '(1,)type'.\n",
            "  _np_quint8 = np.dtype([(\"quint8\", np.uint8, 1)])\n",
            "/usr/local/lib/python3.5/dist-packages/tensorflow/python/framework/dtypes.py:519: FutureWarning: Passing (type, 1) or '1type' as a synonym of type is deprecated; in a future version of numpy, it will be understood as (type, (1,)) / '(1,)type'.\n",
            "  _np_qint16 = np.dtype([(\"qint16\", np.int16, 1)])\n",
            "/usr/local/lib/python3.5/dist-packages/tensorflow/python/framework/dtypes.py:520: FutureWarning: Passing (type, 1) or '1type' as a synonym of type is deprecated; in a future version of numpy, it will be understood as (type, (1,)) / '(1,)type'.\n",
            "  _np_quint16 = np.dtype([(\"quint16\", np.uint16, 1)])\n",
            "/usr/local/lib/python3.5/dist-packages/tensorflow/python/framework/dtypes.py:521: FutureWarning: Passing (type, 1) or '1type' as a synonym of type is deprecated; in a future version of numpy, it will be understood as (type, (1,)) / '(1,)type'.\n",
            "  _np_qint32 = np.dtype([(\"qint32\", np.int32, 1)])\n",
            "/usr/local/lib/python3.5/dist-packages/tensorflow/python/framework/dtypes.py:526: FutureWarning: Passing (type, 1) or '1type' as a synonym of type is deprecated; in a future version of numpy, it will be understood as (type, (1,)) / '(1,)type'.\n",
            "  np_resource = np.dtype([(\"resource\", np.ubyte, 1)])\n",
            "2023-05-30 07:38:55.741675: I tensorflow/core/platform/cpu_feature_guard.cc:140] Your CPU supports instructions that this TensorFlow binary was not compiled to use: AVX2 FMA\n",
            "100% 1/1 [01:16<00:00, 76.63s/it]\n",
            "Exception ignored in: <bound method BaseSession.__del__ of <tensorflow.python.client.session.Session object at 0x7f24e3873cf8>>\n",
            "Traceback (most recent call last):\n",
            "  File \"/usr/local/lib/python3.5/dist-packages/tensorflow/python/client/session.py\", line 712, in __del__\n",
            "TypeError: 'NoneType' object is not callable\n"
          ]
        }
      ]
    },
    {
      "cell_type": "code",
      "source": [
        "#zipping the outputs\n",
        "!zip -r /content/AGLLNet/output.zip /content/AGLLNet/output"
      ],
      "metadata": {
        "id": "Xbg1UYgChqO2",
        "colab": {
          "base_uri": "https://localhost:8080/"
        },
        "outputId": "8682c529-3266-48aa-94ce-05395d37a842"
      },
      "execution_count": null,
      "outputs": [
        {
          "output_type": "stream",
          "name": "stdout",
          "text": [
            "  adding: content/AGLLNet/output/ (stored 0%)\n",
            "  adding: content/AGLLNet/output/5047.png (deflated 0%)\n"
          ]
        }
      ]
    },
    {
      "cell_type": "code",
      "source": [
        "#downloading the output\n",
        "from google.colab import files\n",
        "files.download('/content/AGLLNet/output.zip')"
      ],
      "metadata": {
        "colab": {
          "base_uri": "https://localhost:8080/",
          "height": 17
        },
        "id": "b3I2dQiAQm5b",
        "outputId": "2308d512-8f4a-410d-9c50-61ca6d736835"
      },
      "execution_count": null,
      "outputs": [
        {
          "output_type": "display_data",
          "data": {
            "text/plain": [
              "<IPython.core.display.Javascript object>"
            ],
            "application/javascript": [
              "\n",
              "    async function download(id, filename, size) {\n",
              "      if (!google.colab.kernel.accessAllowed) {\n",
              "        return;\n",
              "      }\n",
              "      const div = document.createElement('div');\n",
              "      const label = document.createElement('label');\n",
              "      label.textContent = `Downloading \"${filename}\": `;\n",
              "      div.appendChild(label);\n",
              "      const progress = document.createElement('progress');\n",
              "      progress.max = size;\n",
              "      div.appendChild(progress);\n",
              "      document.body.appendChild(div);\n",
              "\n",
              "      const buffers = [];\n",
              "      let downloaded = 0;\n",
              "\n",
              "      const channel = await google.colab.kernel.comms.open(id);\n",
              "      // Send a message to notify the kernel that we're ready.\n",
              "      channel.send({})\n",
              "\n",
              "      for await (const message of channel.messages) {\n",
              "        // Send a message to notify the kernel that we're ready.\n",
              "        channel.send({})\n",
              "        if (message.buffers) {\n",
              "          for (const buffer of message.buffers) {\n",
              "            buffers.push(buffer);\n",
              "            downloaded += buffer.byteLength;\n",
              "            progress.value = downloaded;\n",
              "          }\n",
              "        }\n",
              "      }\n",
              "      const blob = new Blob(buffers, {type: 'application/binary'});\n",
              "      const a = document.createElement('a');\n",
              "      a.href = window.URL.createObjectURL(blob);\n",
              "      a.download = filename;\n",
              "      div.appendChild(a);\n",
              "      a.click();\n",
              "      div.remove();\n",
              "    }\n",
              "  "
            ]
          },
          "metadata": {}
        },
        {
          "output_type": "display_data",
          "data": {
            "text/plain": [
              "<IPython.core.display.Javascript object>"
            ],
            "application/javascript": [
              "download(\"download_80fcc36a-2a6f-4aba-b238-306bb71eecc0\", \"output.zip\", 1336553)"
            ]
          },
          "metadata": {}
        }
      ]
    }
  ]
}